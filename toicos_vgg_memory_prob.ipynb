{
  "nbformat": 4,
  "nbformat_minor": 0,
  "metadata": {
    "colab": {
      "provenance": [],
      "gpuType": "T4",
      "mount_file_id": "1nAICzMz1K-dzsOoxfX0uFn_cMv5zyPpG",
      "authorship_tag": "ABX9TyPAcfpjupQeWS22/z4SDmez",
      "include_colab_link": true
    },
    "kernelspec": {
      "name": "python3",
      "display_name": "Python 3"
    },
    "language_info": {
      "name": "python"
    },
    "accelerator": "GPU"
  },
  "cells": [
    {
      "cell_type": "markdown",
      "metadata": {
        "id": "view-in-github",
        "colab_type": "text"
      },
      "source": [
        "<a href=\"https://colab.research.google.com/github/heejjj/Easy-deep-learning-with-Keras/blob/master/toicos_vgg_memory_prob.ipynb\" target=\"_parent\"><img src=\"https://colab.research.google.com/assets/colab-badge.svg\" alt=\"Open In Colab\"/></a>"
      ]
    },
    {
      "cell_type": "code",
      "execution_count": null,
      "metadata": {
        "colab": {
          "base_uri": "https://localhost:8080/"
        },
        "id": "vDJcy95GchfV",
        "outputId": "3c2ef088-ffac-4602-d00f-f19734415c59"
      },
      "outputs": [
        {
          "output_type": "stream",
          "name": "stdout",
          "text": [
            "Drive already mounted at /content/drive; to attempt to forcibly remount, call drive.mount(\"/content/drive\", force_remount=True).\n"
          ]
        }
      ],
      "source": [
        "from google.colab import drive\n",
        "drive.mount('/content/drive')"
      ]
    },
    {
      "cell_type": "code",
      "source": [
        "%cd /content/drive/MyDrive/toicos/\n",
        "\n",
        "#!unzip -qq \"/content/drive/MyDrive/toicos/png2.zip\"\n",
        "#!unzip -qq \"/content/drive/MyDrive/toicos/09-22 라벨링작업폴더.zip\"\n",
        "#!unzip -qq \"/content/drive/MyDrive/toicos/NOMAL.zip\"  #178개\n",
        "#!unzip -qq \"/content/drive/MyDrive/toicos/3개월-15mm.zip\" #(normal 248, leak 122개)\n",
        "#!unzip -qq \"/content/drive/MyDrive/toicos/binary_data2_hj.zip\"\n",
        "!unzip -qq \"/content/drive/MyDrive/toicos/normal260before.zip\""
      ],
      "metadata": {
        "colab": {
          "base_uri": "https://localhost:8080/"
        },
        "id": "9ck6oMQje-kX",
        "outputId": "e587ec2d-1e8b-4d50-e517-92d703b77cc6"
      },
      "execution_count": null,
      "outputs": [
        {
          "output_type": "stream",
          "name": "stdout",
          "text": [
            "/content/drive/MyDrive/toicos\n",
            "replace normal/10026.png? [y]es, [n]o, [A]ll, [N]one, [r]ename: "
          ]
        }
      ]
    },
    {
      "cell_type": "code",
      "source": [
        "! mkdir binary_data\n",
        "! cd -r data/* binary_data\n",
        "! cd -r data/\n",
        "\n",
        "#normal 178개와 leak 2,4월의 138개로 학습"
      ],
      "metadata": {
        "id": "6sy3elxUswee"
      },
      "execution_count": null,
      "outputs": []
    },
    {
      "cell_type": "code",
      "source": [
        "%cd /content/drive/MyDrive/data/\n",
        "!unzip -qq \"/content/drive/MyDrive/data/data_570.zip\"\n",
        "\n",
        "data = '/content/drive/MyDrive/data/data_570'"
      ],
      "metadata": {
        "id": "0r4kp5Wrebd3",
        "colab": {
          "base_uri": "https://localhost:8080/"
        },
        "outputId": "79c02e12-28d5-47a0-da8c-1da7aa85ed1b"
      },
      "execution_count": null,
      "outputs": [
        {
          "output_type": "stream",
          "name": "stdout",
          "text": [
            "/content/drive/MyDrive/data\n",
            "replace abnormal/10131.png? [y]es, [n]o, [A]ll, [N]one, [r]ename: "
          ]
        }
      ]
    },
    {
      "cell_type": "code",
      "source": [
        "#binary_data2_hj의 normaldata 260개 크기별로 선정\n",
        "import os\n",
        "import shutil\n",
        "\n",
        "normal_folder = \"/content/normal\"\n",
        "output_folder = \"/content/normal_260\"\n",
        "# 폴더 생성 (이미 존재하는 경우 무시)\n",
        "os.makedirs(output_folder, exist_ok=True)\n",
        "\n",
        "# normal 폴더 내의 모든 파일의 크기와 경로를 리스트에 저장\n",
        "file_sizes = [(file, os.path.getsize(os.path.join(normal_folder, file))) for file in os.listdir(normal_folder) if os.path.isfile(os.path.join(normal_folder, file))]\n",
        "\n",
        "# 파일 크기를 기준으로 리스트를 정렬\n",
        "file_sizes.sort(key=lambda x: x[1])\n",
        "\n",
        "# 중간 범위의 260개 파일만 선택\n",
        "selected_files = [f[0] for f in file_sizes[int((426-260)/2):int((426+260)/2)]]\n",
        "\n",
        "# 선택한 파일들을 output_folder로 복사\n",
        "for file_name in selected_files:\n",
        "    shutil.copy(os.path.join(normal_folder, file_name), output_folder)\n",
        "\n",
        "print(f\"{len(selected_files)} files have been copied to {output_folder}.\")"
      ],
      "metadata": {
        "colab": {
          "base_uri": "https://localhost:8080/",
          "height": 276
        },
        "id": "lj2cDHIAJ7eD",
        "outputId": "d527630b-a9ec-4088-fd45-7111bfdda16c"
      },
      "execution_count": null,
      "outputs": [
        {
          "output_type": "error",
          "ename": "FileNotFoundError",
          "evalue": "ignored",
          "traceback": [
            "\u001b[0;31m---------------------------------------------------------------------------\u001b[0m",
            "\u001b[0;31mFileNotFoundError\u001b[0m                         Traceback (most recent call last)",
            "\u001b[0;32m<ipython-input-3-4ffa9e9aa764>\u001b[0m in \u001b[0;36m<cell line: 11>\u001b[0;34m()\u001b[0m\n\u001b[1;32m      9\u001b[0m \u001b[0;34m\u001b[0m\u001b[0m\n\u001b[1;32m     10\u001b[0m \u001b[0;31m# normal 폴더 내의 모든 파일의 크기와 경로를 리스트에 저장\u001b[0m\u001b[0;34m\u001b[0m\u001b[0;34m\u001b[0m\u001b[0m\n\u001b[0;32m---> 11\u001b[0;31m \u001b[0mfile_sizes\u001b[0m \u001b[0;34m=\u001b[0m \u001b[0;34m[\u001b[0m\u001b[0;34m(\u001b[0m\u001b[0mfile\u001b[0m\u001b[0;34m,\u001b[0m \u001b[0mos\u001b[0m\u001b[0;34m.\u001b[0m\u001b[0mpath\u001b[0m\u001b[0;34m.\u001b[0m\u001b[0mgetsize\u001b[0m\u001b[0;34m(\u001b[0m\u001b[0mos\u001b[0m\u001b[0;34m.\u001b[0m\u001b[0mpath\u001b[0m\u001b[0;34m.\u001b[0m\u001b[0mjoin\u001b[0m\u001b[0;34m(\u001b[0m\u001b[0mnormal_folder\u001b[0m\u001b[0;34m,\u001b[0m \u001b[0mfile\u001b[0m\u001b[0;34m)\u001b[0m\u001b[0;34m)\u001b[0m\u001b[0;34m)\u001b[0m \u001b[0;32mfor\u001b[0m \u001b[0mfile\u001b[0m \u001b[0;32min\u001b[0m \u001b[0mos\u001b[0m\u001b[0;34m.\u001b[0m\u001b[0mlistdir\u001b[0m\u001b[0;34m(\u001b[0m\u001b[0mnormal_folder\u001b[0m\u001b[0;34m)\u001b[0m \u001b[0;32mif\u001b[0m \u001b[0mos\u001b[0m\u001b[0;34m.\u001b[0m\u001b[0mpath\u001b[0m\u001b[0;34m.\u001b[0m\u001b[0misfile\u001b[0m\u001b[0;34m(\u001b[0m\u001b[0mos\u001b[0m\u001b[0;34m.\u001b[0m\u001b[0mpath\u001b[0m\u001b[0;34m.\u001b[0m\u001b[0mjoin\u001b[0m\u001b[0;34m(\u001b[0m\u001b[0mnormal_folder\u001b[0m\u001b[0;34m,\u001b[0m \u001b[0mfile\u001b[0m\u001b[0;34m)\u001b[0m\u001b[0;34m)\u001b[0m\u001b[0;34m]\u001b[0m\u001b[0;34m\u001b[0m\u001b[0;34m\u001b[0m\u001b[0m\n\u001b[0m\u001b[1;32m     12\u001b[0m \u001b[0;34m\u001b[0m\u001b[0m\n\u001b[1;32m     13\u001b[0m \u001b[0;31m# 파일 크기를 기준으로 리스트를 정렬\u001b[0m\u001b[0;34m\u001b[0m\u001b[0;34m\u001b[0m\u001b[0m\n",
            "\u001b[0;31mFileNotFoundError\u001b[0m: [Errno 2] No such file or directory: '/content/normal'"
          ]
        }
      ]
    },
    {
      "cell_type": "code",
      "source": [
        "! ls leak"
      ],
      "metadata": {
        "colab": {
          "base_uri": "https://localhost:8080/"
        },
        "id": "AYeAKTdoyZNs",
        "outputId": "105e6bd5-1c29-4b64-ee9a-c5ab8c4c509c"
      },
      "execution_count": null,
      "outputs": [
        {
          "output_type": "stream",
          "name": "stdout",
          "text": [
            "ls: cannot access 'leak': No such file or directory\n"
          ]
        }
      ]
    },
    {
      "cell_type": "code",
      "source": [
        "import shutil\n",
        "folder_path =\n",
        "path = ['content/drive/MyDrive/toice/binary']"
      ],
      "metadata": {
        "id": "iIU2gjllyLYt"
      },
      "execution_count": null,
      "outputs": []
    },
    {
      "cell_type": "code",
      "source": [
        "current_dir = os.getcwd()\n",
        "\n",
        "file_list = os.listdir(current_dir)\n",
        "\n",
        "for file in file_list:\n",
        "  print(file)"
      ],
      "metadata": {
        "colab": {
          "base_uri": "https://localhost:8080/"
        },
        "id": "rwvTVd-Bebkv",
        "outputId": "15374cfa-9e1c-4d74-8a6e-835fdc7f626a"
      },
      "execution_count": null,
      "outputs": [
        {
          "output_type": "stream",
          "name": "stdout",
          "text": [
            "png2.zip\n",
            "png2\n",
            "vgg19-architecture2.png\n",
            "09-22 라벨링작업폴더.zip\n",
            "09-22 라벨링작업폴더\n",
            "binary_data\n"
          ]
        }
      ]
    },
    {
      "cell_type": "code",
      "source": [
        "import os\n",
        "\n",
        "leak_dir = '/content/drive/MyDrive/toicos/png2/leak'\n",
        "\n",
        "folder_list = [folder for folder in os.listdir(leak_dir) if os.path.isdir(os.path.join(leak_dir, folder))]\n",
        "\n",
        "for folder in folder_list:\n",
        "    print(folder)"
      ],
      "metadata": {
        "colab": {
          "base_uri": "https://localhost:8080/"
        },
        "id": "PC5oZvRLy_5t",
        "outputId": "4cb6aa25-eaa1-4e96-af07-ddf767914a1b"
      },
      "execution_count": null,
      "outputs": [
        {
          "output_type": "stream",
          "name": "stdout",
          "text": [
            "12개월\n",
            "1개월\n",
            "2개월\n",
            "4개월\n",
            "6개월\n"
          ]
        }
      ]
    },
    {
      "cell_type": "code",
      "source": [
        "import os\n",
        "\n",
        "leak_dir = '/content/drive/MyDrive/toicos/png2/leak'\n",
        "\n",
        "folder_list = [folder for folder in os.listdir(leak_dir) if os.path.isdir(os.path.join(leak_dir, folder))]\n",
        "\n",
        "for folder in folder_list:\n",
        "    folder_path = os.path.join(leak_dir, folder)\n",
        "    file_count = sum([1 for file in os.listdir(folder_path) if os.path.isfile(os.path.join(folder_path, file))])\n",
        "    print(f\"{folder}: {file_count} files\")"
      ],
      "metadata": {
        "colab": {
          "base_uri": "https://localhost:8080/"
        },
        "id": "vgNX-gG80vaF",
        "outputId": "9f5b04cb-2796-416b-8283-8395be993ed7"
      },
      "execution_count": null,
      "outputs": [
        {
          "output_type": "stream",
          "name": "stdout",
          "text": [
            "12개월: 1 files\n",
            "1개월: 0 files\n",
            "2개월: 0 files\n",
            "4개월: 0 files\n",
            "6개월: 0 files\n"
          ]
        }
      ]
    },
    {
      "cell_type": "code",
      "source": [
        "import os\n",
        "\n",
        "leak_dir = '/content/drive/MyDrive/toicos/png2/leak'\n",
        "target_months = ['2개월', '4개월']\n",
        "subfolders = ['A-type', 'B-type', 'C-type', 'D-type']\n",
        "\n",
        "total_files = 0\n",
        "\n",
        "for month in target_months:\n",
        "    for subfolder in subfolders:\n",
        "        folder_path = os.path.join(leak_dir, month, subfolder)\n",
        "        file_count = sum([1 for file in os.listdir(folder_path) if os.path.isfile(os.path.join(folder_path, file))])\n",
        "        total_files += file_count\n",
        "\n",
        "print(f\"Total files in 2_month and 4_month (A, B, C, D folders): {total_files}\")"
      ],
      "metadata": {
        "colab": {
          "base_uri": "https://localhost:8080/"
        },
        "id": "qoJzXQ231asN",
        "outputId": "837d85f0-0928-4deb-9147-e4700df401a0"
      },
      "execution_count": null,
      "outputs": [
        {
          "output_type": "stream",
          "name": "stdout",
          "text": [
            "Total files in 2_month and 4_month (A, B, C, D folders): 138\n"
          ]
        }
      ]
    },
    {
      "cell_type": "code",
      "source": [
        "import shutil\n",
        "\n",
        "\n",
        "leak_dir = '/content/drive/MyDrive/toicos/png2/leak'\n",
        "target_months = ['2개월', '4개월']\n",
        "subfolders = ['A-type', 'B-type', 'C-type', 'D-type']\n",
        "\n",
        "# 새로운 병합 폴더 생성\n",
        "merged_folder_path = os.path.join(leak_dir, 'merged_folder')\n",
        "if not os.path.exists(merged_folder_path):\n",
        "    os.makedirs(merged_folder_path)\n",
        "\n",
        "# 각 대상 폴더의 파일들을 병합 폴더로 복사\n",
        "for month in target_months:\n",
        "    for subfolder in subfolders:\n",
        "        folder_path = os.path.join(leak_dir, month, subfolder)\n",
        "        for file_name in os.listdir(folder_path):\n",
        "            file_path = os.path.join(folder_path, file_name)\n",
        "            if os.path.isfile(file_path):\n",
        "                # 파일을 병합 폴더로 복사 (동일한 이름의 파일이 이미 존재하는 경우 덮어쓴다)\n",
        "                shutil.copy(file_path, merged_folder_path)\n",
        "\n",
        "print(f\"All files from 2_month and 4_month (A, B, C, D folders) have been copied to {merged_folder_path}.\")"
      ],
      "metadata": {
        "colab": {
          "base_uri": "https://localhost:8080/"
        },
        "id": "hSDpmtF314s0",
        "outputId": "a64f0114-a0e6-4765-f593-46d90422a20d"
      },
      "execution_count": null,
      "outputs": [
        {
          "output_type": "stream",
          "name": "stdout",
          "text": [
            "All files from 2_month and 4_month (A, B, C, D folders) have been copied to /content/drive/MyDrive/toicos/png2/leak/merged_folder.\n"
          ]
        }
      ]
    },
    {
      "cell_type": "code",
      "source": [
        "#3개월 15mm 폴더 재분류\n",
        "import os\n",
        "import shutil\n",
        "from google.colab import drive\n",
        "\n",
        "drive.mount('/content/drive')\n",
        "\n",
        "\n",
        "# 폴더 경로 설정\n",
        "source_folder = \"/content/drive/MyDrive/toicos/3개월-15mm\"\n",
        "leak_folder = \"/content/leak\"\n",
        "normal_folder = \"/content/normal\"\n",
        "binary_data_folder = \"/content/binary_data\"\n",
        "\n",
        "# 폴더 생성 (이미 존재하는 경우 무시)\n",
        "os.makedirs(leak_folder, exist_ok=True)\n",
        "os.makedirs(normal_folder, exist_ok=True)\n",
        "os.makedirs(binary_data_folder, exist_ok=True)\n",
        "\n",
        "# 파일 복사 함수\n",
        "def copy_files(src_folder, dest_folder):\n",
        "    for file_name in os.listdir(src_folder):\n",
        "        file_path = os.path.join(src_folder, file_name)\n",
        "        if os.path.isfile(file_path):\n",
        "            shutil.copy(file_path, dest_folder)\n",
        "\n",
        "# A~D 폴더의 파일들을 leak 폴더로 복사\n",
        "for subfolder in ['A', 'B', 'C', 'D']:\n",
        "    copy_files(os.path.join(source_folder, subfolder), leak_folder)\n",
        "\n",
        "# O 폴더의 파일들을 normal 폴더로 복사\n",
        "copy_files(os.path.join(source_folder, 'O'), normal_folder)\n",
        "\n",
        "# leak 폴더와 normal 폴더의 내용을 binary_data 폴더로 복사\n",
        "copy_files(leak_folder, binary_data_folder)\n",
        "copy_files(normal_folder, binary_data_folder)\n",
        "\n"
      ],
      "metadata": {
        "colab": {
          "base_uri": "https://localhost:8080/"
        },
        "id": "8PaBFEiR8VZz",
        "outputId": "3b3206a6-d1ee-490c-8fe1-ecfeb2cca5e8"
      },
      "execution_count": null,
      "outputs": [
        {
          "output_type": "stream",
          "name": "stdout",
          "text": [
            "Drive already mounted at /content/drive; to attempt to forcibly remount, call drive.mount(\"/content/drive\", force_remount=True).\n"
          ]
        }
      ]
    },
    {
      "cell_type": "code",
      "source": [
        "# binary_data 폴더 내의 폴더들을 ZIP 파일로 압축\n",
        "!zip -r /content/leak.zip $leak_folder\n",
        "!zip -r /content/normal.zip $normal_folder\n",
        "\n",
        "# 압축한 ZIP 파일들을 Google Drive로 복사\n",
        "destination_drive_folder = \"/content/drive/MyDrive/toicos/binary_data\"  # 저장할 Google Drive 폴더 경로를 지정하세요.\n",
        "shutil.copy(\"/content/leak.zip\", destination_drive_folder)\n",
        "shutil.copy(\"/content/normal.zip\", destination_drive_folder)\n",
        "\n",
        "print(\"ZIP files saved to Google Drive!\")"
      ],
      "metadata": {
        "colab": {
          "base_uri": "https://localhost:8080/"
        },
        "id": "LROq5HH--uK7",
        "outputId": "cdbb83e3-1852-46b9-bf3a-821df0005c9e"
      },
      "execution_count": null,
      "outputs": [
        {
          "output_type": "stream",
          "name": "stdout",
          "text": [
            "  adding: content/leak/ (stored 0%)\n",
            "  adding: content/leak/35724.png (deflated 3%)\n",
            "  adding: content/leak/36192.png (deflated 4%)\n",
            "  adding: content/leak/34853.png (deflated 2%)\n",
            "  adding: content/leak/10131.png (deflated 1%)\n",
            "  adding: content/leak/37302.png (deflated 3%)\n",
            "  adding: content/leak/37488.png (deflated 2%)\n",
            "  adding: content/leak/35863.png (deflated 2%)\n",
            "  adding: content/leak/35825.png (deflated 2%)\n",
            "  adding: content/leak/37892.png (deflated 2%)\n",
            "  adding: content/leak/36041.png (deflated 2%)\n",
            "  adding: content/leak/36312.png (deflated 8%)\n",
            "  adding: content/leak/37377.png (deflated 3%)\n",
            "  adding: content/leak/35003.png (deflated 4%)\n",
            "  adding: content/leak/36208.png (deflated 2%)\n",
            "  adding: content/leak/36572.png (deflated 3%)\n",
            "  adding: content/leak/36028.png (deflated 2%)\n",
            "  adding: content/leak/36263.png (deflated 2%)\n",
            "  adding: content/leak/36408.png (deflated 3%)\n",
            "  adding: content/leak/34992.png (deflated 6%)\n",
            "  adding: content/leak/39657.png (deflated 7%)\n",
            "  adding: content/leak/36170.png (deflated 4%)\n",
            "  adding: content/leak/36326.png (deflated 2%)\n",
            "  adding: content/leak/36187.png (deflated 3%)\n",
            "  adding: content/leak/37483.png (deflated 2%)\n",
            "  adding: content/leak/37783.png (deflated 2%)\n",
            "  adding: content/leak/35753.png (deflated 3%)\n",
            "  adding: content/leak/39455.png (deflated 2%)\n",
            "  adding: content/leak/36846.png (deflated 2%)\n",
            "  adding: content/leak/36875.png (deflated 3%)\n",
            "  adding: content/leak/35201.png (deflated 2%)\n",
            "  adding: content/leak/36617.png (deflated 5%)\n",
            "  adding: content/leak/39014.png (deflated 3%)\n",
            "  adding: content/leak/10754.png (deflated 1%)\n",
            "  adding: content/leak/36077.png (deflated 3%)\n",
            "  adding: content/leak/36311.png (deflated 3%)\n",
            "  adding: content/leak/36580.png (deflated 2%)\n",
            "  adding: content/leak/39011.png (deflated 2%)\n",
            "  adding: content/leak/36888.png (deflated 2%)\n",
            "  adding: content/leak/35000.png (deflated 3%)\n",
            "  adding: content/leak/34854.png (deflated 2%)\n",
            "  adding: content/leak/38933.png (deflated 2%)\n",
            "  adding: content/leak/36033.png (deflated 5%)\n",
            "  adding: content/leak/37379.png (deflated 3%)\n",
            "  adding: content/leak/36265.png (deflated 2%)\n",
            "  adding: content/leak/36043.png (deflated 2%)\n",
            "  adding: content/leak/35033.png (deflated 3%)\n",
            "  adding: content/leak/35778.png (deflated 2%)\n",
            "  adding: content/leak/37406.png (deflated 2%)\n",
            "  adding: content/leak/36407.png (deflated 6%)\n",
            "  adding: content/leak/35777.png (deflated 2%)\n",
            "  adding: content/leak/38248.png (deflated 3%)\n",
            "  adding: content/leak/37773.png (deflated 2%)\n",
            "  adding: content/leak/37960.png (deflated 3%)\n",
            "  adding: content/leak/36883.png (deflated 2%)\n",
            "  adding: content/leak/37497.png (deflated 2%)\n",
            "  adding: content/leak/36277.png (deflated 3%)\n",
            "  adding: content/leak/37401.png (deflated 4%)\n",
            "  adding: content/leak/34998.png (deflated 2%)\n",
            "  adding: content/leak/35188.png (deflated 2%)\n",
            "  adding: content/leak/28926.png (deflated 1%)\n",
            "  adding: content/leak/37267.png (deflated 3%)\n",
            "  adding: content/leak/36213.png (deflated 2%)\n",
            "  adding: content/leak/37774.png (deflated 2%)\n",
            "  adding: content/leak/36589.png (deflated 2%)\n",
            "  adding: content/leak/36401.png (deflated 4%)\n",
            "  adding: content/leak/38877.png (deflated 7%)\n",
            "  adding: content/leak/35001.png (deflated 2%)\n",
            "  adding: content/leak/39463.png (deflated 3%)\n",
            "  adding: content/leak/39468.png (deflated 2%)\n",
            "  adding: content/leak/36235.png (deflated 2%)\n",
            "  adding: content/leak/36325.png (deflated 2%)\n",
            "  adding: content/leak/36145.png (deflated 2%)\n",
            "  adding: content/leak/36403.png (deflated 5%)\n",
            "  adding: content/leak/36045.png (deflated 5%)\n",
            "  adding: content/leak/36852.png (deflated 3%)\n",
            "  adding: content/leak/36029.png (deflated 2%)\n",
            "  adding: content/leak/36176.png (deflated 2%)\n",
            "  adding: content/leak/36614.png (deflated 2%)\n",
            "  adding: content/leak/36100.png (deflated 3%)\n",
            "  adding: content/leak/36214.png (deflated 2%)\n",
            "  adding: content/leak/35108.png (deflated 3%)\n",
            "  adding: content/leak/36196.png (deflated 2%)\n",
            "  adding: content/leak/36159.png (deflated 2%)\n",
            "  adding: content/leak/37776.png (deflated 2%)\n",
            "  adding: content/leak/37755.png (deflated 3%)\n",
            "  adding: content/leak/39135.png (deflated 3%)\n",
            "  adding: content/leak/36902.png (deflated 2%)\n",
            "  adding: content/leak/36588.png (deflated 4%)\n",
            "  adding: content/leak/38965.png (deflated 2%)\n",
            "  adding: content/leak/36867.png (deflated 2%)\n",
            "  adding: content/leak/36562.png (deflated 2%)\n",
            "  adding: content/leak/36040.png (deflated 2%)\n",
            "  adding: content/leak/38575.png (deflated 5%)\n",
            "  adding: content/leak/37792.png (deflated 2%)\n",
            "  adding: content/leak/36106.png (deflated 2%)\n",
            "  adding: content/leak/35008.png (deflated 2%)\n",
            "  adding: content/leak/14927.png (deflated 4%)\n",
            "  adding: content/leak/36582.png (deflated 2%)\n",
            "  adding: content/leak/36262.png (deflated 3%)\n",
            "  adding: content/leak/37798.png (deflated 2%)\n",
            "  adding: content/leak/39006.png (deflated 3%)\n",
            "  adding: content/leak/37402.png (deflated 3%)\n",
            "  adding: content/leak/37247.png (deflated 3%)\n",
            "  adding: content/leak/36876.png (deflated 2%)\n",
            "  adding: content/leak/35736.png (deflated 2%)\n",
            "  adding: content/leak/36075.png (deflated 3%)\n",
            "  adding: content/leak/36243.png (deflated 2%)\n",
            "  adding: content/leak/36849.png (deflated 3%)\n",
            "  adding: content/leak/36089.png (deflated 2%)\n",
            "  adding: content/leak/36164.png (deflated 2%)\n",
            "  adding: content/leak/37408.png (deflated 3%)\n",
            "  adding: content/leak/36138.png (deflated 3%)\n",
            "  adding: content/leak/38911.png (deflated 2%)\n",
            "  adding: content/leak/36898.png (deflated 2%)\n",
            "  adding: content/leak/36906.png (deflated 3%)\n",
            "  adding: content/leak/35849.png (deflated 3%)\n",
            "  adding: content/leak/36593.png (deflated 3%)\n",
            "  adding: content/leak/39083.png (deflated 3%)\n",
            "  adding: content/leak/35088.png (deflated 2%)\n",
            "  adding: content/leak/37249.png (deflated 6%)\n",
            "  adding: content/leak/35713.png (deflated 4%)\n",
            "  adding: content/leak/38164.png (deflated 4%)\n",
            "  adding: content/normal/ (stored 0%)\n",
            "  adding: content/normal/10867.png (deflated 1%)\n",
            "  adding: content/normal/10833.png (deflated 1%)\n",
            "  adding: content/normal/28994.png (deflated 1%)\n",
            "  adding: content/normal/28789.png (deflated 2%)\n",
            "  adding: content/normal/28902.png (deflated 2%)\n",
            "  adding: content/normal/28867.png (deflated 2%)\n",
            "  adding: content/normal/28838.png (deflated 1%)\n",
            "  adding: content/normal/37181.png (deflated 2%)\n",
            "  adding: content/normal/28826.png (deflated 1%)\n",
            "  adding: content/normal/28759.png (deflated 2%)\n",
            "  adding: content/normal/14038.png (deflated 2%)\n",
            "  adding: content/normal/28819.png (deflated 2%)\n",
            "  adding: content/normal/36370.png (deflated 2%)\n",
            "  adding: content/normal/36201.png (deflated 2%)\n",
            "  adding: content/normal/28956.png (deflated 1%)\n",
            "  adding: content/normal/35963.png (deflated 2%)\n",
            "  adding: content/normal/38070.png (deflated 2%)\n",
            "  adding: content/normal/37218.png (deflated 2%)\n",
            "  adding: content/normal/28998.png (deflated 2%)\n",
            "  adding: content/normal/37192.png (deflated 3%)\n",
            "  adding: content/normal/28775.png (deflated 2%)\n",
            "  adding: content/normal/10825.png (deflated 1%)\n",
            "  adding: content/normal/37164.png (deflated 2%)\n",
            "  adding: content/normal/14881.png (deflated 1%)\n",
            "  adding: content/normal/29027.png (deflated 1%)\n",
            "  adding: content/normal/28911.png (deflated 2%)\n",
            "  adding: content/normal/10776.png (deflated 1%)\n",
            "  adding: content/normal/28912.png (deflated 2%)\n",
            "  adding: content/normal/28762.png (deflated 1%)\n",
            "  adding: content/normal/28861.png (deflated 2%)\n",
            "  adding: content/normal/28748.png (deflated 1%)\n",
            "  adding: content/normal/28760.png (deflated 2%)\n",
            "  adding: content/normal/28732.png (deflated 2%)\n",
            "  adding: content/normal/35829.png (deflated 2%)\n",
            "  adding: content/normal/37193.png (deflated 3%)\n",
            "  adding: content/normal/28889.png (deflated 2%)\n",
            "  adding: content/normal/28783.png (deflated 1%)\n",
            "  adding: content/normal/28845.png (deflated 1%)\n",
            "  adding: content/normal/28734.png (deflated 2%)\n",
            "  adding: content/normal/29024.png (deflated 1%)\n",
            "  adding: content/normal/28724.png (deflated 2%)\n",
            "  adding: content/normal/37799.png (deflated 2%)\n",
            "  adding: content/normal/36863.png (deflated 2%)\n",
            "  adding: content/normal/14963.png (deflated 2%)\n",
            "  adding: content/normal/28786.png (deflated 2%)\n",
            "  adding: content/normal/1039.png (deflated 3%)\n",
            "  adding: content/normal/28951.png (deflated 2%)\n",
            "  adding: content/normal/28937.png (deflated 1%)\n",
            "  adding: content/normal/28805.png (deflated 2%)\n",
            "  adding: content/normal/28917.png (deflated 2%)\n",
            "  adding: content/normal/28985.png (deflated 2%)\n",
            "  adding: content/normal/10860.png (deflated 1%)\n",
            "  adding: content/normal/28756.png (deflated 2%)\n",
            "  adding: content/normal/28739.png (deflated 1%)\n",
            "  adding: content/normal/28955.png (deflated 2%)\n",
            "  adding: content/normal/10878.png (deflated 1%)\n",
            "  adding: content/normal/37871.png (deflated 2%)\n",
            "  adding: content/normal/28822.png (deflated 1%)\n",
            "  adding: content/normal/10830.png (deflated 2%)\n",
            "  adding: content/normal/28972.png (deflated 2%)\n",
            "  adding: content/normal/28954.png (deflated 2%)\n",
            "  adding: content/normal/28915.png (deflated 2%)\n",
            "  adding: content/normal/28877.png (deflated 1%)\n",
            "  adding: content/normal/14933.png (deflated 1%)\n",
            "  adding: content/normal/14938.png (deflated 2%)\n",
            "  adding: content/normal/10768.png (deflated 2%)\n",
            "  adding: content/normal/37678.png (deflated 2%)\n",
            "  adding: content/normal/28764.png (deflated 2%)\n",
            "  adding: content/normal/28751.png (deflated 1%)\n",
            "  adding: content/normal/28842.png (deflated 2%)\n",
            "  adding: content/normal/28761.png (deflated 2%)\n",
            "  adding: content/normal/28827.png (deflated 1%)\n",
            "  adding: content/normal/35679.png (deflated 2%)\n",
            "  adding: content/normal/28799.png (deflated 1%)\n",
            "  adding: content/normal/28735.png (deflated 2%)\n",
            "  adding: content/normal/28987.png (deflated 1%)\n",
            "  adding: content/normal/28854.png (deflated 2%)\n",
            "  adding: content/normal/37229.png (deflated 2%)\n",
            "  adding: content/normal/28996.png (deflated 4%)\n",
            "  adding: content/normal/14937.png (deflated 2%)\n",
            "  adding: content/normal/35300.png (deflated 2%)\n",
            "  adding: content/normal/28931.png (deflated 2%)\n",
            "  adding: content/normal/14921.png (deflated 1%)\n",
            "  adding: content/normal/28942.png (deflated 1%)\n",
            "  adding: content/normal/10129.png (deflated 1%)\n",
            "  adding: content/normal/28907.png (deflated 2%)\n",
            "  adding: content/normal/28855.png (deflated 2%)\n",
            "  adding: content/normal/14926.png (deflated 1%)\n",
            "  adding: content/normal/28864.png (deflated 1%)\n",
            "  adding: content/normal/28723.png (deflated 2%)\n",
            "  adding: content/normal/28817.png (deflated 2%)\n",
            "  adding: content/normal/28733.png (deflated 1%)\n",
            "  adding: content/normal/35675.png (deflated 2%)\n",
            "  adding: content/normal/10857.png (deflated 2%)\n",
            "  adding: content/normal/10868.png (deflated 2%)\n",
            "  adding: content/normal/28737.png (deflated 2%)\n",
            "  adding: content/normal/28944.png (deflated 2%)\n",
            "  adding: content/normal/10837.png (deflated 2%)\n",
            "  adding: content/normal/35878.png (deflated 2%)\n",
            "  adding: content/normal/28745.png (deflated 2%)\n",
            "  adding: content/normal/28747.png (deflated 1%)\n",
            "  adding: content/normal/28872.png (deflated 1%)\n",
            "  adding: content/normal/28873.png (deflated 1%)\n",
            "  adding: content/normal/37494.png (deflated 2%)\n",
            "  adding: content/normal/10875.png (deflated 2%)\n",
            "  adding: content/normal/28941.png (deflated 2%)\n",
            "  adding: content/normal/36585.png (deflated 2%)\n",
            "  adding: content/normal/37447.png (deflated 2%)\n",
            "  adding: content/normal/14966.png (deflated 1%)\n",
            "  adding: content/normal/28728.png (deflated 2%)\n",
            "  adding: content/normal/36712.png (deflated 3%)\n",
            "  adding: content/normal/10819.png (deflated 2%)\n",
            "  adding: content/normal/28992.png (deflated 1%)\n",
            "  adding: content/normal/28958.png (deflated 1%)\n",
            "  adding: content/normal/1013.png (deflated 5%)\n",
            "  adding: content/normal/28729.png (deflated 2%)\n",
            "  adding: content/normal/28750.png (deflated 3%)\n",
            "  adding: content/normal/14687.png (deflated 2%)\n",
            "  adding: content/normal/28962.png (deflated 1%)\n",
            "  adding: content/normal/28824.png (deflated 2%)\n",
            "  adding: content/normal/28765.png (deflated 1%)\n",
            "  adding: content/normal/1025.png (deflated 2%)\n",
            "  adding: content/normal/28752.png (deflated 2%)\n",
            "  adding: content/normal/10896.png (deflated 1%)\n",
            "  adding: content/normal/36105.png (deflated 2%)\n",
            "  adding: content/normal/36599.png (deflated 2%)\n",
            "  adding: content/normal/28966.png (deflated 1%)\n",
            "  adding: content/normal/28860.png (deflated 1%)\n",
            "  adding: content/normal/28757.png (deflated 2%)\n",
            "  adding: content/normal/28883.png (deflated 2%)\n",
            "  adding: content/normal/28840.png (deflated 2%)\n",
            "  adding: content/normal/28790.png (deflated 3%)\n",
            "  adding: content/normal/36212.png (deflated 2%)\n",
            "  adding: content/normal/28744.png (deflated 1%)\n",
            "  adding: content/normal/35919.png (deflated 2%)\n",
            "  adding: content/normal/36627.png (deflated 2%)\n",
            "  adding: content/normal/28755.png (deflated 1%)\n",
            "  adding: content/normal/38049.png (deflated 3%)\n",
            "  adding: content/normal/28847.png (deflated 2%)\n",
            "  adding: content/normal/28797.png (deflated 2%)\n",
            "  adding: content/normal/14827.png (deflated 1%)\n",
            "  adding: content/normal/28743.png (deflated 3%)\n",
            "  adding: content/normal/29012.png (deflated 1%)\n",
            "  adding: content/normal/35789.png (deflated 2%)\n",
            "  adding: content/normal/28796.png (deflated 2%)\n",
            "  adding: content/normal/36853.png (deflated 2%)\n",
            "  adding: content/normal/14842.png (deflated 2%)\n",
            "  adding: content/normal/29026.png (deflated 2%)\n",
            "  adding: content/normal/28726.png (deflated 2%)\n",
            "  adding: content/normal/36290.png (deflated 2%)\n",
            "  adding: content/normal/10822.png (deflated 1%)\n",
            "  adding: content/normal/10026.png (deflated 2%)\n",
            "  adding: content/normal/28878.png (deflated 1%)\n",
            "  adding: content/normal/28837.png (deflated 1%)\n",
            "  adding: content/normal/37475.png (deflated 2%)\n",
            "  adding: content/normal/36579.png (deflated 2%)\n",
            "  adding: content/normal/28909.png (deflated 1%)\n",
            "  adding: content/normal/28927.png (deflated 1%)\n",
            "  adding: content/normal/28766.png (deflated 1%)\n",
            "  adding: content/normal/28921.png (deflated 2%)\n",
            "  adding: content/normal/28965.png (deflated 1%)\n",
            "  adding: content/normal/28772.png (deflated 1%)\n",
            "  adding: content/normal/28815.png (deflated 2%)\n",
            "  adding: content/normal/28953.png (deflated 2%)\n",
            "  adding: content/normal/28913.png (deflated 2%)\n",
            "  adding: content/normal/28979.png (deflated 1%)\n",
            "  adding: content/normal/28774.png (deflated 2%)\n",
            "  adding: content/normal/28983.png (deflated 4%)\n",
            "  adding: content/normal/28814.png (deflated 3%)\n",
            "  adding: content/normal/29020.png (deflated 1%)\n",
            "  adding: content/normal/28828.png (deflated 1%)\n",
            "  adding: content/normal/14931.png (deflated 2%)\n",
            "  adding: content/normal/36276.png (deflated 2%)\n",
            "  adding: content/normal/28731.png (deflated 2%)\n",
            "  adding: content/normal/35879.png (deflated 2%)\n",
            "  adding: content/normal/28853.png (deflated 1%)\n",
            "  adding: content/normal/29029.png (deflated 1%)\n",
            "  adding: content/normal/29031.png (deflated 4%)\n",
            "  adding: content/normal/35771.png (deflated 2%)\n",
            "  adding: content/normal/14930.png (deflated 1%)\n",
            "  adding: content/normal/28746.png (deflated 1%)\n",
            "  adding: content/normal/28846.png (deflated 2%)\n",
            "  adding: content/normal/28836.png (deflated 1%)\n",
            "  adding: content/normal/36388.png (deflated 2%)\n",
            "  adding: content/normal/28932.png (deflated 2%)\n",
            "  adding: content/normal/28862.png (deflated 2%)\n",
            "  adding: content/normal/28769.png (deflated 1%)\n",
            "  adding: content/normal/36051.png (deflated 2%)\n",
            "  adding: content/normal/1038.png (deflated 3%)\n",
            "  adding: content/normal/29022.png (deflated 3%)\n",
            "  adding: content/normal/14932.png (deflated 1%)\n",
            "  adding: content/normal/28763.png (deflated 2%)\n",
            "  adding: content/normal/14943.png (deflated 1%)\n",
            "  adding: content/normal/36679.png (deflated 3%)\n",
            "  adding: content/normal/36920.png (deflated 2%)\n",
            "  adding: content/normal/11009.png (deflated 1%)\n",
            "  adding: content/normal/28794.png (deflated 1%)\n",
            "  adding: content/normal/10722.png (deflated 2%)\n",
            "  adding: content/normal/36710.png (deflated 2%)\n",
            "  adding: content/normal/36310.png (deflated 2%)\n",
            "  adding: content/normal/28916.png (deflated 1%)\n",
            "  adding: content/normal/28989.png (deflated 1%)\n",
            "  adding: content/normal/37136.png (deflated 2%)\n",
            "  adding: content/normal/37151.png (deflated 2%)\n",
            "  adding: content/normal/37221.png (deflated 3%)\n",
            "  adding: content/normal/28801.png (deflated 2%)\n",
            "  adding: content/normal/28798.png (deflated 2%)\n",
            "  adding: content/normal/28871.png (deflated 1%)\n",
            "  adding: content/normal/36664.png (deflated 2%)\n",
            "  adding: content/normal/10814.png (deflated 1%)\n",
            "  adding: content/normal/1016.png (deflated 1%)\n",
            "  adding: content/normal/28881.png (deflated 2%)\n",
            "  adding: content/normal/28874.png (deflated 1%)\n",
            "  adding: content/normal/28894.png (deflated 2%)\n",
            "  adding: content/normal/28866.png (deflated 2%)\n",
            "  adding: content/normal/28725.png (deflated 2%)\n",
            "  adding: content/normal/36135.png (deflated 2%)\n",
            "  adding: content/normal/28818.png (deflated 2%)\n",
            "  adding: content/normal/28876.png (deflated 2%)\n",
            "  adding: content/normal/28749.png (deflated 2%)\n",
            "  adding: content/normal/28821.png (deflated 2%)\n",
            "  adding: content/normal/10873.png (deflated 2%)\n",
            "  adding: content/normal/14936.png (deflated 2%)\n",
            "  adding: content/normal/28843.png (deflated 1%)\n",
            "  adding: content/normal/28844.png (deflated 2%)\n",
            "  adding: content/normal/29007.png (deflated 3%)\n",
            "  adding: content/normal/35622.png (deflated 2%)\n",
            "  adding: content/normal/28905.png (deflated 2%)\n",
            "  adding: content/normal/35750.png (deflated 2%)\n",
            "  adding: content/normal/14726.png (deflated 2%)\n",
            "  adding: content/normal/35756.png (deflated 2%)\n",
            "  adding: content/normal/14961.png (deflated 2%)\n",
            "  adding: content/normal/28995.png (deflated 1%)\n",
            "  adding: content/normal/28969.png (deflated 2%)\n",
            "  adding: content/normal/28839.png (deflated 1%)\n",
            "  adding: content/normal/37588.png (deflated 2%)\n",
            "  adding: content/normal/36203.png (deflated 2%)\n",
            "  adding: content/normal/28754.png (deflated 2%)\n",
            "  adding: content/normal/28727.png (deflated 2%)\n",
            "  adding: content/normal/28882.png (deflated 2%)\n",
            "  adding: content/normal/37161.png (deflated 2%)\n",
            "  adding: content/normal/28741.png (deflated 2%)\n",
            "  adding: content/normal/28971.png (deflated 3%)\n",
            "  adding: content/normal/28910.png (deflated 2%)\n",
            "  adding: content/normal/36545.png (deflated 2%)\n",
            "  adding: content/normal/28742.png (deflated 2%)\n",
            "  adding: content/normal/28933.png (deflated 2%)\n",
            "  adding: content/normal/1028.png (deflated 2%)\n",
            "ZIP files saved to Google Drive!\n"
          ]
        }
      ]
    },
    {
      "cell_type": "code",
      "source": [],
      "metadata": {
        "id": "vfdCrRygf6qQ"
      },
      "execution_count": null,
      "outputs": []
    },
    {
      "cell_type": "code",
      "source": [
        "import numpy as np\n",
        "import tensorflow as tf\n",
        "from tensorflow.keras.preprocessing.image import ImageDataGenerator\n",
        "from tensorflow.keras.models import Sequential, Model\n",
        "from tensorflow.keras.layers import Conv2D, MaxPooling2D, Flatten, Dense, Dropout, GlobalAveragePooling2D\n",
        "from tensorflow.keras.applications import VGG19\n"
      ],
      "metadata": {
        "id": "vV_W9zB5ebn3"
      },
      "execution_count": null,
      "outputs": []
    },
    {
      "cell_type": "code",
      "source": [
        "#hyperparameter\n",
        "data = '/content/drive/MyDrive/data/'\n",
        "img_height, img_width = 288,1080  #image size of vgg19\n",
        "batch_size = 32\n",
        "epochs = 10\n",
        "#num_classes = 3"
      ],
      "metadata": {
        "id": "LDpSBxdoebqn"
      },
      "execution_count": null,
      "outputs": []
    },
    {
      "cell_type": "code",
      "source": [
        "#load data and preprocessing\n",
        "datagen = ImageDataGenerator(rescale=1.0/255.0, validation_split=0.2)\n",
        "\n",
        "train_generator = datagen.flow_from_directory(data,\n",
        "                                              target_size=(img_height, img_width),\n",
        "                                              batch_size=batch_size,\n",
        "                                              #class_mode='categorical'\n",
        "                                              class_mode ='binary',\n",
        "                                              subset='training')\n",
        "\n",
        "validation_generator = datagen.flow_from_directory(data,\n",
        "                                                   target_size=(img_height, img_width),\n",
        "                                                   batch_size=batch_size,\n",
        "                                                   #class_mode='categorical'\n",
        "                                                   class_mode ='binary',\n",
        "                                                   subset='validation')"
      ],
      "metadata": {
        "colab": {
          "base_uri": "https://localhost:8080/"
        },
        "id": "fLQZsgZBQyvy",
        "outputId": "63f1b999-6a63-4439-9909-99e84fb69e1b"
      },
      "execution_count": null,
      "outputs": [
        {
          "output_type": "stream",
          "name": "stdout",
          "text": [
            "Found 416 images belonging to 2 classes.\n",
            "Found 104 images belonging to 2 classes.\n"
          ]
        }
      ]
    },
    {
      "cell_type": "code",
      "source": [
        "vgg19 = VGG19(input_shape=(img_height, img_width, 3), include_top=False, weights=None)"
      ],
      "metadata": {
        "id": "Obry__B1iV9-"
      },
      "execution_count": null,
      "outputs": []
    },
    {
      "cell_type": "markdown",
      "source": [
        "#VGG19 Network Architecher\n",
        "<img src = \"https://blog.techcraft.org/wp-content/uploads/2021/03/vgg19-architecture2.png\" height = 300 width = 500>"
      ],
      "metadata": {
        "id": "maN0qX7rkfyg"
      }
    },
    {
      "cell_type": "code",
      "source": [
        "\"\"\"# add new dense for classification model\n",
        "x = vgg19.output\n",
        "x = GlobalAveragePooling2D()(x)  # use AVG pooling\n",
        "x = Dense(512, activation='relu')(x)  # use FCL\n",
        "x = Dropout(0.5)(x)\n",
        "predictions = Dense(num_classes, activation='softmax')(x)  # calssfiy layer\n",
        "\n",
        "model = Model(inputs= vgg19.input, outputs=predictions)\"\"\""
      ],
      "metadata": {
        "id": "rHZQYvxTiZnY"
      },
      "execution_count": null,
      "outputs": []
    },
    {
      "cell_type": "code",
      "source": [
        "# add new dense for binary model\n",
        "x = vgg19.output\n",
        "x = GlobalAveragePooling2D()(x)\n",
        "x = Dense(512, activation='relu')(x)\n",
        "x = Dropout(0.5)(x)\n",
        "predictions = Dense(1, activation='sigmoid')(x)"
      ],
      "metadata": {
        "id": "iEKAths9myI2"
      },
      "execution_count": null,
      "outputs": []
    },
    {
      "cell_type": "code",
      "source": [
        "model = Model(inputs= vgg19.input, outputs=predictions)"
      ],
      "metadata": {
        "id": "Bquh8SclP3Cy"
      },
      "execution_count": null,
      "outputs": []
    },
    {
      "cell_type": "code",
      "source": [
        "#compile\n",
        "#model.compile(optimizer='adam', loss='categorical_crossentropy', metrics=['accuracy']) for classification model\n",
        "model.compile(optimizer='adam', loss='binary_crossentropy', metrics=['accuracy']) #for binary model"
      ],
      "metadata": {
        "id": "PSNiTIugiuVG"
      },
      "execution_count": null,
      "outputs": []
    },
    {
      "cell_type": "code",
      "source": [
        "#learning\n",
        "model.fit(train_generator, epochs=epochs, validation_data=validation_generator)\n",
        "\n",
        "#학습결과 92%"
      ],
      "metadata": {
        "colab": {
          "base_uri": "https://localhost:8080/",
          "height": 1000
        },
        "id": "Uz5SiHrEi7AG",
        "outputId": "aaff9ae7-fba7-4bd8-9034-30188d037ee4"
      },
      "execution_count": null,
      "outputs": [
        {
          "output_type": "stream",
          "name": "stdout",
          "text": [
            "Epoch 1/10\n"
          ]
        },
        {
          "output_type": "error",
          "ename": "ResourceExhaustedError",
          "evalue": "ignored",
          "traceback": [
            "\u001b[0;31m---------------------------------------------------------------------------\u001b[0m",
            "\u001b[0;31mResourceExhaustedError\u001b[0m                    Traceback (most recent call last)",
            "\u001b[0;32m<ipython-input-16-c3ae62e473ee>\u001b[0m in \u001b[0;36m<cell line: 2>\u001b[0;34m()\u001b[0m\n\u001b[1;32m      1\u001b[0m \u001b[0;31m#learning\u001b[0m\u001b[0;34m\u001b[0m\u001b[0;34m\u001b[0m\u001b[0m\n\u001b[0;32m----> 2\u001b[0;31m \u001b[0mmodel\u001b[0m\u001b[0;34m.\u001b[0m\u001b[0mfit\u001b[0m\u001b[0;34m(\u001b[0m\u001b[0mtrain_generator\u001b[0m\u001b[0;34m,\u001b[0m \u001b[0mepochs\u001b[0m\u001b[0;34m=\u001b[0m\u001b[0mepochs\u001b[0m\u001b[0;34m,\u001b[0m \u001b[0mvalidation_data\u001b[0m\u001b[0;34m=\u001b[0m\u001b[0mvalidation_generator\u001b[0m\u001b[0;34m)\u001b[0m\u001b[0;34m\u001b[0m\u001b[0;34m\u001b[0m\u001b[0m\n\u001b[0m",
            "\u001b[0;32m/usr/local/lib/python3.10/dist-packages/keras/src/utils/traceback_utils.py\u001b[0m in \u001b[0;36merror_handler\u001b[0;34m(*args, **kwargs)\u001b[0m\n\u001b[1;32m     68\u001b[0m             \u001b[0;31m# To get the full stack trace, call:\u001b[0m\u001b[0;34m\u001b[0m\u001b[0;34m\u001b[0m\u001b[0m\n\u001b[1;32m     69\u001b[0m             \u001b[0;31m# `tf.debugging.disable_traceback_filtering()`\u001b[0m\u001b[0;34m\u001b[0m\u001b[0;34m\u001b[0m\u001b[0m\n\u001b[0;32m---> 70\u001b[0;31m             \u001b[0;32mraise\u001b[0m \u001b[0me\u001b[0m\u001b[0;34m.\u001b[0m\u001b[0mwith_traceback\u001b[0m\u001b[0;34m(\u001b[0m\u001b[0mfiltered_tb\u001b[0m\u001b[0;34m)\u001b[0m \u001b[0;32mfrom\u001b[0m \u001b[0;32mNone\u001b[0m\u001b[0;34m\u001b[0m\u001b[0;34m\u001b[0m\u001b[0m\n\u001b[0m\u001b[1;32m     71\u001b[0m         \u001b[0;32mfinally\u001b[0m\u001b[0;34m:\u001b[0m\u001b[0;34m\u001b[0m\u001b[0;34m\u001b[0m\u001b[0m\n\u001b[1;32m     72\u001b[0m             \u001b[0;32mdel\u001b[0m \u001b[0mfiltered_tb\u001b[0m\u001b[0;34m\u001b[0m\u001b[0;34m\u001b[0m\u001b[0m\n",
            "\u001b[0;32m/usr/local/lib/python3.10/dist-packages/tensorflow/python/eager/execute.py\u001b[0m in \u001b[0;36mquick_execute\u001b[0;34m(op_name, num_outputs, inputs, attrs, ctx, name)\u001b[0m\n\u001b[1;32m     51\u001b[0m   \u001b[0;32mtry\u001b[0m\u001b[0;34m:\u001b[0m\u001b[0;34m\u001b[0m\u001b[0;34m\u001b[0m\u001b[0m\n\u001b[1;32m     52\u001b[0m     \u001b[0mctx\u001b[0m\u001b[0;34m.\u001b[0m\u001b[0mensure_initialized\u001b[0m\u001b[0;34m(\u001b[0m\u001b[0;34m)\u001b[0m\u001b[0;34m\u001b[0m\u001b[0;34m\u001b[0m\u001b[0m\n\u001b[0;32m---> 53\u001b[0;31m     tensors = pywrap_tfe.TFE_Py_Execute(ctx._handle, device_name, op_name,\n\u001b[0m\u001b[1;32m     54\u001b[0m                                         inputs, attrs, num_outputs)\n\u001b[1;32m     55\u001b[0m   \u001b[0;32mexcept\u001b[0m \u001b[0mcore\u001b[0m\u001b[0;34m.\u001b[0m\u001b[0m_NotOkStatusException\u001b[0m \u001b[0;32mas\u001b[0m \u001b[0me\u001b[0m\u001b[0;34m:\u001b[0m\u001b[0;34m\u001b[0m\u001b[0;34m\u001b[0m\u001b[0m\n",
            "\u001b[0;31mResourceExhaustedError\u001b[0m: Graph execution error:\n\nDetected at node 'gradient_tape/model_1/block4_conv4/Conv2D/Conv2DBackpropInput' defined at (most recent call last):\n    File \"/usr/lib/python3.10/runpy.py\", line 196, in _run_module_as_main\n      return _run_code(code, main_globals, None,\n    File \"/usr/lib/python3.10/runpy.py\", line 86, in _run_code\n      exec(code, run_globals)\n    File \"/usr/local/lib/python3.10/dist-packages/colab_kernel_launcher.py\", line 37, in <module>\n      ColabKernelApp.launch_instance()\n    File \"/usr/local/lib/python3.10/dist-packages/traitlets/config/application.py\", line 992, in launch_instance\n      app.start()\n    File \"/usr/local/lib/python3.10/dist-packages/ipykernel/kernelapp.py\", line 619, in start\n      self.io_loop.start()\n    File \"/usr/local/lib/python3.10/dist-packages/tornado/platform/asyncio.py\", line 195, in start\n      self.asyncio_loop.run_forever()\n    File \"/usr/lib/python3.10/asyncio/base_events.py\", line 603, in run_forever\n      self._run_once()\n    File \"/usr/lib/python3.10/asyncio/base_events.py\", line 1909, in _run_once\n      handle._run()\n    File \"/usr/lib/python3.10/asyncio/events.py\", line 80, in _run\n      self._context.run(self._callback, *self._args)\n    File \"/usr/local/lib/python3.10/dist-packages/tornado/ioloop.py\", line 685, in <lambda>\n      lambda f: self._run_callback(functools.partial(callback, future))\n    File \"/usr/local/lib/python3.10/dist-packages/tornado/ioloop.py\", line 738, in _run_callback\n      ret = callback()\n    File \"/usr/local/lib/python3.10/dist-packages/tornado/gen.py\", line 825, in inner\n      self.ctx_run(self.run)\n    File \"/usr/local/lib/python3.10/dist-packages/tornado/gen.py\", line 786, in run\n      yielded = self.gen.send(value)\n    File \"/usr/local/lib/python3.10/dist-packages/ipykernel/kernelbase.py\", line 361, in process_one\n      yield gen.maybe_future(dispatch(*args))\n    File \"/usr/local/lib/python3.10/dist-packages/tornado/gen.py\", line 234, in wrapper\n      yielded = ctx_run(next, result)\n    File \"/usr/local/lib/python3.10/dist-packages/ipykernel/kernelbase.py\", line 261, in dispatch_shell\n      yield gen.maybe_future(handler(stream, idents, msg))\n    File \"/usr/local/lib/python3.10/dist-packages/tornado/gen.py\", line 234, in wrapper\n      yielded = ctx_run(next, result)\n    File \"/usr/local/lib/python3.10/dist-packages/ipykernel/kernelbase.py\", line 539, in execute_request\n      self.do_execute(\n    File \"/usr/local/lib/python3.10/dist-packages/tornado/gen.py\", line 234, in wrapper\n      yielded = ctx_run(next, result)\n    File \"/usr/local/lib/python3.10/dist-packages/ipykernel/ipkernel.py\", line 302, in do_execute\n      res = shell.run_cell(code, store_history=store_history, silent=silent)\n    File \"/usr/local/lib/python3.10/dist-packages/ipykernel/zmqshell.py\", line 539, in run_cell\n      return super(ZMQInteractiveShell, self).run_cell(*args, **kwargs)\n    File \"/usr/local/lib/python3.10/dist-packages/IPython/core/interactiveshell.py\", line 2975, in run_cell\n      result = self._run_cell(\n    File \"/usr/local/lib/python3.10/dist-packages/IPython/core/interactiveshell.py\", line 3030, in _run_cell\n      return runner(coro)\n    File \"/usr/local/lib/python3.10/dist-packages/IPython/core/async_helpers.py\", line 78, in _pseudo_sync_runner\n      coro.send(None)\n    File \"/usr/local/lib/python3.10/dist-packages/IPython/core/interactiveshell.py\", line 3257, in run_cell_async\n      has_raised = await self.run_ast_nodes(code_ast.body, cell_name,\n    File \"/usr/local/lib/python3.10/dist-packages/IPython/core/interactiveshell.py\", line 3473, in run_ast_nodes\n      if (await self.run_code(code, result,  async_=asy)):\n    File \"/usr/local/lib/python3.10/dist-packages/IPython/core/interactiveshell.py\", line 3553, in run_code\n      exec(code_obj, self.user_global_ns, self.user_ns)\n    File \"<ipython-input-16-c3ae62e473ee>\", line 2, in <cell line: 2>\n      model.fit(train_generator, epochs=epochs, validation_data=validation_generator)\n    File \"/usr/local/lib/python3.10/dist-packages/keras/src/utils/traceback_utils.py\", line 65, in error_handler\n      return fn(*args, **kwargs)\n    File \"/usr/local/lib/python3.10/dist-packages/keras/src/engine/training.py\", line 1742, in fit\n      tmp_logs = self.train_function(iterator)\n    File \"/usr/local/lib/python3.10/dist-packages/keras/src/engine/training.py\", line 1338, in train_function\n      return step_function(self, iterator)\n    File \"/usr/local/lib/python3.10/dist-packages/keras/src/engine/training.py\", line 1322, in step_function\n      outputs = model.distribute_strategy.run(run_step, args=(data,))\n    File \"/usr/local/lib/python3.10/dist-packages/keras/src/engine/training.py\", line 1303, in run_step\n      outputs = model.train_step(data)\n    File \"/usr/local/lib/python3.10/dist-packages/keras/src/engine/training.py\", line 1084, in train_step\n      self.optimizer.minimize(loss, self.trainable_variables, tape=tape)\n    File \"/usr/local/lib/python3.10/dist-packages/keras/src/optimizers/optimizer.py\", line 543, in minimize\n      grads_and_vars = self.compute_gradients(loss, var_list, tape)\n    File \"/usr/local/lib/python3.10/dist-packages/keras/src/optimizers/optimizer.py\", line 276, in compute_gradients\n      grads = tape.gradient(loss, var_list)\nNode: 'gradient_tape/model_1/block4_conv4/Conv2D/Conv2DBackpropInput'\nOOM when allocating tensor with shape[32,512,36,135] and type float on /job:localhost/replica:0/task:0/device:GPU:0 by allocator GPU_0_bfc\n\t [[{{node gradient_tape/model_1/block4_conv4/Conv2D/Conv2DBackpropInput}}]]\nHint: If you want to see a list of allocated tensors when OOM happens, add report_tensor_allocations_upon_oom to RunOptions for current allocation info. This isn't available when running in Eager mode.\n [Op:__inference_train_function_6109]"
          ]
        }
      ]
    },
    {
      "cell_type": "code",
      "source": [
        "import os\n",
        "import numpy as np\n",
        "import tensorflow as tf\n",
        "from tensorflow.keras.preprocessing.image import ImageDataGenerator\n",
        "from tensorflow.keras.models import Sequential, Model\n",
        "from tensorflow.keras.layers import Conv2D, MaxPooling2D, Flatten, Dense, Dropout, GlobalAveragePooling2D\n",
        "from tensorflow.keras.applications import VGG19\n",
        "\n",
        "# 데이터 경로 및 하이퍼파라미터 설정\n",
        "data_dir = \"/content/drive/MyDrive/data\"\n",
        "img_height, img_width = 288, 1080\n",
        "batch_size = 32\n",
        "epochs = 10\n",
        "\n",
        "num_classes = 3\n",
        "\n",
        "# 데이터 불러오기 및 전처리\n",
        "datagen = ImageDataGenerator(rescale=1.0/255.0, validation_split=0.2)\n",
        "\n",
        "train_generator = datagen.flow_from_directory(\n",
        "    data_dir,\n",
        "    target_size=(img_height, img_width),\n",
        "    batch_size=batch_size,\n",
        "    class_mode='categorical',\n",
        "    subset='training'\n",
        ")\n",
        "\n",
        "validation_generator = datagen.flow_from_directory(\n",
        "    data_dir,\n",
        "    target_size=(img_height, img_width),\n",
        "    batch_size=batch_size,b\n",
        "    class_mode='categorical',\n",
        "    subset='validation'\n",
        ")\n",
        "\n",
        "# VGG19 모델 로드\n",
        "base_model = VGG19(input_shape=(img_height, img_width, 3), include_top=False, weights=None)\n",
        "\n",
        "# 새로운 분류 층 추가\n",
        "x = base_model.output\n",
        "x = GlobalAveragePooling2D()(x)  # 평균 풀링 사용\n",
        "x = Dense(512, activation='relu')(x)  # 완전 연결 층\n",
        "x = Dropout(0.5)(x)  # 드롭아웃 추가\n",
        "predictions = Dense(num_classes, activation='softmax')(x)  # 분류 층\n",
        "\n",
        "model = Model(inputs=base_model.input, outputs=predictions)\n",
        "\n",
        "# 모델 컴파일\n",
        "model.compile(optimizer='adam', loss='categorical_crossentropy', metrics=['accuracy'])\n",
        "\n",
        "# 모델 학습\n",
        "model.fit(train_generator, epochs=epochs, validation_data=validation_generator)\n"
      ],
      "metadata": {
        "colab": {
          "base_uri": "https://localhost:8080/",
          "height": 1000
        },
        "id": "Kdtfr5JzSCLq",
        "outputId": "592fce6e-2495-4fa4-acff-13a5ea3a954d"
      },
      "execution_count": null,
      "outputs": [
        {
          "output_type": "stream",
          "name": "stdout",
          "text": [
            "Found 416 images belonging to 2 classes.\n",
            "Found 104 images belonging to 2 classes.\n",
            "Epoch 1/10\n"
          ]
        },
        {
          "output_type": "error",
          "ename": "InvalidArgumentError",
          "evalue": "ignored",
          "traceback": [
            "\u001b[0;31m---------------------------------------------------------------------------\u001b[0m",
            "\u001b[0;31mInvalidArgumentError\u001b[0m                      Traceback (most recent call last)",
            "\u001b[0;32m<ipython-input-18-7773c959f707>\u001b[0m in \u001b[0;36m<cell line: 52>\u001b[0;34m()\u001b[0m\n\u001b[1;32m     50\u001b[0m \u001b[0;34m\u001b[0m\u001b[0m\n\u001b[1;32m     51\u001b[0m \u001b[0;31m# 모델 학습\u001b[0m\u001b[0;34m\u001b[0m\u001b[0;34m\u001b[0m\u001b[0m\n\u001b[0;32m---> 52\u001b[0;31m \u001b[0mmodel\u001b[0m\u001b[0;34m.\u001b[0m\u001b[0mfit\u001b[0m\u001b[0;34m(\u001b[0m\u001b[0mtrain_generator\u001b[0m\u001b[0;34m,\u001b[0m \u001b[0mepochs\u001b[0m\u001b[0;34m=\u001b[0m\u001b[0mepochs\u001b[0m\u001b[0;34m,\u001b[0m \u001b[0mvalidation_data\u001b[0m\u001b[0;34m=\u001b[0m\u001b[0mvalidation_generator\u001b[0m\u001b[0;34m)\u001b[0m\u001b[0;34m\u001b[0m\u001b[0;34m\u001b[0m\u001b[0m\n\u001b[0m",
            "\u001b[0;32m/usr/local/lib/python3.10/dist-packages/keras/src/utils/traceback_utils.py\u001b[0m in \u001b[0;36merror_handler\u001b[0;34m(*args, **kwargs)\u001b[0m\n\u001b[1;32m     68\u001b[0m             \u001b[0;31m# To get the full stack trace, call:\u001b[0m\u001b[0;34m\u001b[0m\u001b[0;34m\u001b[0m\u001b[0m\n\u001b[1;32m     69\u001b[0m             \u001b[0;31m# `tf.debugging.disable_traceback_filtering()`\u001b[0m\u001b[0;34m\u001b[0m\u001b[0;34m\u001b[0m\u001b[0m\n\u001b[0;32m---> 70\u001b[0;31m             \u001b[0;32mraise\u001b[0m \u001b[0me\u001b[0m\u001b[0;34m.\u001b[0m\u001b[0mwith_traceback\u001b[0m\u001b[0;34m(\u001b[0m\u001b[0mfiltered_tb\u001b[0m\u001b[0;34m)\u001b[0m \u001b[0;32mfrom\u001b[0m \u001b[0;32mNone\u001b[0m\u001b[0;34m\u001b[0m\u001b[0;34m\u001b[0m\u001b[0m\n\u001b[0m\u001b[1;32m     71\u001b[0m         \u001b[0;32mfinally\u001b[0m\u001b[0;34m:\u001b[0m\u001b[0;34m\u001b[0m\u001b[0;34m\u001b[0m\u001b[0m\n\u001b[1;32m     72\u001b[0m             \u001b[0;32mdel\u001b[0m \u001b[0mfiltered_tb\u001b[0m\u001b[0;34m\u001b[0m\u001b[0;34m\u001b[0m\u001b[0m\n",
            "\u001b[0;32m/usr/local/lib/python3.10/dist-packages/tensorflow/python/eager/execute.py\u001b[0m in \u001b[0;36mquick_execute\u001b[0;34m(op_name, num_outputs, inputs, attrs, ctx, name)\u001b[0m\n\u001b[1;32m     51\u001b[0m   \u001b[0;32mtry\u001b[0m\u001b[0;34m:\u001b[0m\u001b[0;34m\u001b[0m\u001b[0;34m\u001b[0m\u001b[0m\n\u001b[1;32m     52\u001b[0m     \u001b[0mctx\u001b[0m\u001b[0;34m.\u001b[0m\u001b[0mensure_initialized\u001b[0m\u001b[0;34m(\u001b[0m\u001b[0;34m)\u001b[0m\u001b[0;34m\u001b[0m\u001b[0;34m\u001b[0m\u001b[0m\n\u001b[0;32m---> 53\u001b[0;31m     tensors = pywrap_tfe.TFE_Py_Execute(ctx._handle, device_name, op_name,\n\u001b[0m\u001b[1;32m     54\u001b[0m                                         inputs, attrs, num_outputs)\n\u001b[1;32m     55\u001b[0m   \u001b[0;32mexcept\u001b[0m \u001b[0mcore\u001b[0m\u001b[0;34m.\u001b[0m\u001b[0m_NotOkStatusException\u001b[0m \u001b[0;32mas\u001b[0m \u001b[0me\u001b[0m\u001b[0;34m:\u001b[0m\u001b[0;34m\u001b[0m\u001b[0;34m\u001b[0m\u001b[0m\n",
            "\u001b[0;31mInvalidArgumentError\u001b[0m: Graph execution error:\n\nDetected at node 'categorical_crossentropy/softmax_cross_entropy_with_logits' defined at (most recent call last):\n    File \"/usr/lib/python3.10/runpy.py\", line 196, in _run_module_as_main\n      return _run_code(code, main_globals, None,\n    File \"/usr/lib/python3.10/runpy.py\", line 86, in _run_code\n      exec(code, run_globals)\n    File \"/usr/local/lib/python3.10/dist-packages/colab_kernel_launcher.py\", line 37, in <module>\n      ColabKernelApp.launch_instance()\n    File \"/usr/local/lib/python3.10/dist-packages/traitlets/config/application.py\", line 992, in launch_instance\n      app.start()\n    File \"/usr/local/lib/python3.10/dist-packages/ipykernel/kernelapp.py\", line 619, in start\n      self.io_loop.start()\n    File \"/usr/local/lib/python3.10/dist-packages/tornado/platform/asyncio.py\", line 195, in start\n      self.asyncio_loop.run_forever()\n    File \"/usr/lib/python3.10/asyncio/base_events.py\", line 603, in run_forever\n      self._run_once()\n    File \"/usr/lib/python3.10/asyncio/base_events.py\", line 1909, in _run_once\n      handle._run()\n    File \"/usr/lib/python3.10/asyncio/events.py\", line 80, in _run\n      self._context.run(self._callback, *self._args)\n    File \"/usr/local/lib/python3.10/dist-packages/tornado/ioloop.py\", line 685, in <lambda>\n      lambda f: self._run_callback(functools.partial(callback, future))\n    File \"/usr/local/lib/python3.10/dist-packages/tornado/ioloop.py\", line 738, in _run_callback\n      ret = callback()\n    File \"/usr/local/lib/python3.10/dist-packages/tornado/gen.py\", line 825, in inner\n      self.ctx_run(self.run)\n    File \"/usr/local/lib/python3.10/dist-packages/tornado/gen.py\", line 786, in run\n      yielded = self.gen.send(value)\n    File \"/usr/local/lib/python3.10/dist-packages/ipykernel/kernelbase.py\", line 361, in process_one\n      yield gen.maybe_future(dispatch(*args))\n    File \"/usr/local/lib/python3.10/dist-packages/tornado/gen.py\", line 234, in wrapper\n      yielded = ctx_run(next, result)\n    File \"/usr/local/lib/python3.10/dist-packages/ipykernel/kernelbase.py\", line 261, in dispatch_shell\n      yield gen.maybe_future(handler(stream, idents, msg))\n    File \"/usr/local/lib/python3.10/dist-packages/tornado/gen.py\", line 234, in wrapper\n      yielded = ctx_run(next, result)\n    File \"/usr/local/lib/python3.10/dist-packages/ipykernel/kernelbase.py\", line 539, in execute_request\n      self.do_execute(\n    File \"/usr/local/lib/python3.10/dist-packages/tornado/gen.py\", line 234, in wrapper\n      yielded = ctx_run(next, result)\n    File \"/usr/local/lib/python3.10/dist-packages/ipykernel/ipkernel.py\", line 302, in do_execute\n      res = shell.run_cell(code, store_history=store_history, silent=silent)\n    File \"/usr/local/lib/python3.10/dist-packages/ipykernel/zmqshell.py\", line 539, in run_cell\n      return super(ZMQInteractiveShell, self).run_cell(*args, **kwargs)\n    File \"/usr/local/lib/python3.10/dist-packages/IPython/core/interactiveshell.py\", line 2975, in run_cell\n      result = self._run_cell(\n    File \"/usr/local/lib/python3.10/dist-packages/IPython/core/interactiveshell.py\", line 3030, in _run_cell\n      return runner(coro)\n    File \"/usr/local/lib/python3.10/dist-packages/IPython/core/async_helpers.py\", line 78, in _pseudo_sync_runner\n      coro.send(None)\n    File \"/usr/local/lib/python3.10/dist-packages/IPython/core/interactiveshell.py\", line 3257, in run_cell_async\n      has_raised = await self.run_ast_nodes(code_ast.body, cell_name,\n    File \"/usr/local/lib/python3.10/dist-packages/IPython/core/interactiveshell.py\", line 3473, in run_ast_nodes\n      if (await self.run_code(code, result,  async_=asy)):\n    File \"/usr/local/lib/python3.10/dist-packages/IPython/core/interactiveshell.py\", line 3553, in run_code\n      exec(code_obj, self.user_global_ns, self.user_ns)\n    File \"<ipython-input-18-7773c959f707>\", line 52, in <cell line: 52>\n      model.fit(train_generator, epochs=epochs, validation_data=validation_generator)\n    File \"/usr/local/lib/python3.10/dist-packages/keras/src/utils/traceback_utils.py\", line 65, in error_handler\n      return fn(*args, **kwargs)\n    File \"/usr/local/lib/python3.10/dist-packages/keras/src/engine/training.py\", line 1742, in fit\n      tmp_logs = self.train_function(iterator)\n    File \"/usr/local/lib/python3.10/dist-packages/keras/src/engine/training.py\", line 1338, in train_function\n      return step_function(self, iterator)\n    File \"/usr/local/lib/python3.10/dist-packages/keras/src/engine/training.py\", line 1322, in step_function\n      outputs = model.distribute_strategy.run(run_step, args=(data,))\n    File \"/usr/local/lib/python3.10/dist-packages/keras/src/engine/training.py\", line 1303, in run_step\n      outputs = model.train_step(data)\n    File \"/usr/local/lib/python3.10/dist-packages/keras/src/engine/training.py\", line 1081, in train_step\n      loss = self.compute_loss(x, y, y_pred, sample_weight)\n    File \"/usr/local/lib/python3.10/dist-packages/keras/src/engine/training.py\", line 1139, in compute_loss\n      return self.compiled_loss(\n    File \"/usr/local/lib/python3.10/dist-packages/keras/src/engine/compile_utils.py\", line 265, in __call__\n      loss_value = loss_obj(y_t, y_p, sample_weight=sw)\n    File \"/usr/local/lib/python3.10/dist-packages/keras/src/losses.py\", line 142, in __call__\n      losses = call_fn(y_true, y_pred)\n    File \"/usr/local/lib/python3.10/dist-packages/keras/src/losses.py\", line 268, in call\n      return ag_fn(y_true, y_pred, **self._fn_kwargs)\n    File \"/usr/local/lib/python3.10/dist-packages/keras/src/losses.py\", line 2122, in categorical_crossentropy\n      return backend.categorical_crossentropy(\n    File \"/usr/local/lib/python3.10/dist-packages/keras/src/backend.py\", line 5566, in categorical_crossentropy\n      return tf.nn.softmax_cross_entropy_with_logits(\nNode: 'categorical_crossentropy/softmax_cross_entropy_with_logits'\nlogits and labels must be broadcastable: logits_size=[32,3] labels_size=[32,2]\n\t [[{{node categorical_crossentropy/softmax_cross_entropy_with_logits}}]] [Op:__inference_train_function_10074]"
          ]
        }
      ]
    },
    {
      "cell_type": "code",
      "source": [
        "import os\n",
        "import numpy as np\n",
        "import tensorflow as tf\n",
        "from tensorflow.keras.preprocessing.image import ImageDataGenerator\n",
        "from tensorflow.keras.models import Model\n",
        "from tensorflow.keras.layers import GlobalAveragePooling2D, Dense, Dropout\n",
        "from tensorflow.keras.applications import VGG19\n",
        "\n",
        "# 데이터 경로 및 하이퍼파라미터 설정\n",
        "data_dir = \"/content/drive/MyDrive/data\"\n",
        "img_height, img_width = 288, 1080\n",
        "batch_size = 32\n",
        "epochs = 10\n",
        "\n",
        "# 데이터 불러오기 및 전처리\n",
        "datagen = ImageDataGenerator(rescale=1.0/255.0, validation_split=0.2)\n",
        "\n",
        "train_generator = datagen.flow_from_directory(\n",
        "    data_dir,\n",
        "    target_size=(img_height, img_width),\n",
        "    batch_size=batch_size,\n",
        "    class_mode='binary',  # 이진 분류를 위해 'binary'로 변경\n",
        "    subset='training'\n",
        ")\n",
        "\n",
        "validation_generator = datagen.flow_from_directory(\n",
        "    data_dir,\n",
        "    target_size=(img_height, img_width),\n",
        "    batch_size=batch_size,\n",
        "    class_mode='binary',  # 이진 분류를 위해 'binary'로 변경\n",
        "    subset='validation'\n",
        ")\n",
        "\n",
        "# VGG19 모델 로드\n",
        "base_model = VGG19(input_shape=(img_height, img_width, 3), include_top=False, weights=None)\n",
        "\n",
        "# 새로운 분류 층 추가\n",
        "x = base_model.output\n",
        "x = GlobalAveragePooling2D()(x)\n",
        "x = Dense(512, activation='relu')(x)\n",
        "x = Dropout(0.5)(x)\n",
        "predictions = Dense(1, activation='sigmoid')(x)  # 이진 분류를 위해 유닛 수를 1로, 활성화 함수를 'sigmoid'로 변경\n",
        "\n",
        "model = Model(inputs=base_model.input, outputs=predictions)\n",
        "\n",
        "# 모델 컴파일\n",
        "model.compile(optimizer='adam', loss='binary_crossentropy', metrics=['accuracy'])  # 이진 분류를 위해 손실 함수를 'binary_crossentropy'로 변경\n",
        "\n",
        "# 모델 학습\n",
        "model.fit(train_generator, epochs=epochs, validation_data=validation_generator)"
      ],
      "metadata": {
        "colab": {
          "base_uri": "https://localhost:8080/",
          "height": 1000
        },
        "id": "vgLfnLL9SWdS",
        "outputId": "7198cc72-e190-4062-fc74-8d1135e6930c"
      },
      "execution_count": null,
      "outputs": [
        {
          "output_type": "stream",
          "name": "stdout",
          "text": [
            "Found 416 images belonging to 2 classes.\n",
            "Found 104 images belonging to 2 classes.\n",
            "Epoch 1/10\n"
          ]
        },
        {
          "output_type": "error",
          "ename": "ResourceExhaustedError",
          "evalue": "ignored",
          "traceback": [
            "\u001b[0;31m---------------------------------------------------------------------------\u001b[0m",
            "\u001b[0;31mResourceExhaustedError\u001b[0m                    Traceback (most recent call last)",
            "\u001b[0;32m<ipython-input-19-d997eb1b2baa>\u001b[0m in \u001b[0;36m<cell line: 50>\u001b[0;34m()\u001b[0m\n\u001b[1;32m     48\u001b[0m \u001b[0;34m\u001b[0m\u001b[0m\n\u001b[1;32m     49\u001b[0m \u001b[0;31m# 모델 학습\u001b[0m\u001b[0;34m\u001b[0m\u001b[0;34m\u001b[0m\u001b[0m\n\u001b[0;32m---> 50\u001b[0;31m \u001b[0mmodel\u001b[0m\u001b[0;34m.\u001b[0m\u001b[0mfit\u001b[0m\u001b[0;34m(\u001b[0m\u001b[0mtrain_generator\u001b[0m\u001b[0;34m,\u001b[0m \u001b[0mepochs\u001b[0m\u001b[0;34m=\u001b[0m\u001b[0mepochs\u001b[0m\u001b[0;34m,\u001b[0m \u001b[0mvalidation_data\u001b[0m\u001b[0;34m=\u001b[0m\u001b[0mvalidation_generator\u001b[0m\u001b[0;34m)\u001b[0m\u001b[0;34m\u001b[0m\u001b[0;34m\u001b[0m\u001b[0m\n\u001b[0m",
            "\u001b[0;32m/usr/local/lib/python3.10/dist-packages/keras/src/utils/traceback_utils.py\u001b[0m in \u001b[0;36merror_handler\u001b[0;34m(*args, **kwargs)\u001b[0m\n\u001b[1;32m     68\u001b[0m             \u001b[0;31m# To get the full stack trace, call:\u001b[0m\u001b[0;34m\u001b[0m\u001b[0;34m\u001b[0m\u001b[0m\n\u001b[1;32m     69\u001b[0m             \u001b[0;31m# `tf.debugging.disable_traceback_filtering()`\u001b[0m\u001b[0;34m\u001b[0m\u001b[0;34m\u001b[0m\u001b[0m\n\u001b[0;32m---> 70\u001b[0;31m             \u001b[0;32mraise\u001b[0m \u001b[0me\u001b[0m\u001b[0;34m.\u001b[0m\u001b[0mwith_traceback\u001b[0m\u001b[0;34m(\u001b[0m\u001b[0mfiltered_tb\u001b[0m\u001b[0;34m)\u001b[0m \u001b[0;32mfrom\u001b[0m \u001b[0;32mNone\u001b[0m\u001b[0;34m\u001b[0m\u001b[0;34m\u001b[0m\u001b[0m\n\u001b[0m\u001b[1;32m     71\u001b[0m         \u001b[0;32mfinally\u001b[0m\u001b[0;34m:\u001b[0m\u001b[0;34m\u001b[0m\u001b[0;34m\u001b[0m\u001b[0m\n\u001b[1;32m     72\u001b[0m             \u001b[0;32mdel\u001b[0m \u001b[0mfiltered_tb\u001b[0m\u001b[0;34m\u001b[0m\u001b[0;34m\u001b[0m\u001b[0m\n",
            "\u001b[0;32m/usr/local/lib/python3.10/dist-packages/tensorflow/python/eager/execute.py\u001b[0m in \u001b[0;36mquick_execute\u001b[0;34m(op_name, num_outputs, inputs, attrs, ctx, name)\u001b[0m\n\u001b[1;32m     51\u001b[0m   \u001b[0;32mtry\u001b[0m\u001b[0;34m:\u001b[0m\u001b[0;34m\u001b[0m\u001b[0;34m\u001b[0m\u001b[0m\n\u001b[1;32m     52\u001b[0m     \u001b[0mctx\u001b[0m\u001b[0;34m.\u001b[0m\u001b[0mensure_initialized\u001b[0m\u001b[0;34m(\u001b[0m\u001b[0;34m)\u001b[0m\u001b[0;34m\u001b[0m\u001b[0;34m\u001b[0m\u001b[0m\n\u001b[0;32m---> 53\u001b[0;31m     tensors = pywrap_tfe.TFE_Py_Execute(ctx._handle, device_name, op_name,\n\u001b[0m\u001b[1;32m     54\u001b[0m                                         inputs, attrs, num_outputs)\n\u001b[1;32m     55\u001b[0m   \u001b[0;32mexcept\u001b[0m \u001b[0mcore\u001b[0m\u001b[0;34m.\u001b[0m\u001b[0m_NotOkStatusException\u001b[0m \u001b[0;32mas\u001b[0m \u001b[0me\u001b[0m\u001b[0;34m:\u001b[0m\u001b[0;34m\u001b[0m\u001b[0;34m\u001b[0m\u001b[0m\n",
            "\u001b[0;31mResourceExhaustedError\u001b[0m: Graph execution error:\n\nDetected at node 'gradient_tape/model_3/block4_pool/MaxPool/MaxPoolGrad' defined at (most recent call last):\n    File \"/usr/lib/python3.10/runpy.py\", line 196, in _run_module_as_main\n      return _run_code(code, main_globals, None,\n    File \"/usr/lib/python3.10/runpy.py\", line 86, in _run_code\n      exec(code, run_globals)\n    File \"/usr/local/lib/python3.10/dist-packages/colab_kernel_launcher.py\", line 37, in <module>\n      ColabKernelApp.launch_instance()\n    File \"/usr/local/lib/python3.10/dist-packages/traitlets/config/application.py\", line 992, in launch_instance\n      app.start()\n    File \"/usr/local/lib/python3.10/dist-packages/ipykernel/kernelapp.py\", line 619, in start\n      self.io_loop.start()\n    File \"/usr/local/lib/python3.10/dist-packages/tornado/platform/asyncio.py\", line 195, in start\n      self.asyncio_loop.run_forever()\n    File \"/usr/lib/python3.10/asyncio/base_events.py\", line 603, in run_forever\n      self._run_once()\n    File \"/usr/lib/python3.10/asyncio/base_events.py\", line 1909, in _run_once\n      handle._run()\n    File \"/usr/lib/python3.10/asyncio/events.py\", line 80, in _run\n      self._context.run(self._callback, *self._args)\n    File \"/usr/local/lib/python3.10/dist-packages/tornado/ioloop.py\", line 685, in <lambda>\n      lambda f: self._run_callback(functools.partial(callback, future))\n    File \"/usr/local/lib/python3.10/dist-packages/tornado/ioloop.py\", line 738, in _run_callback\n      ret = callback()\n    File \"/usr/local/lib/python3.10/dist-packages/tornado/gen.py\", line 825, in inner\n      self.ctx_run(self.run)\n    File \"/usr/local/lib/python3.10/dist-packages/tornado/gen.py\", line 786, in run\n      yielded = self.gen.send(value)\n    File \"/usr/local/lib/python3.10/dist-packages/ipykernel/kernelbase.py\", line 361, in process_one\n      yield gen.maybe_future(dispatch(*args))\n    File \"/usr/local/lib/python3.10/dist-packages/tornado/gen.py\", line 234, in wrapper\n      yielded = ctx_run(next, result)\n    File \"/usr/local/lib/python3.10/dist-packages/ipykernel/kernelbase.py\", line 261, in dispatch_shell\n      yield gen.maybe_future(handler(stream, idents, msg))\n    File \"/usr/local/lib/python3.10/dist-packages/tornado/gen.py\", line 234, in wrapper\n      yielded = ctx_run(next, result)\n    File \"/usr/local/lib/python3.10/dist-packages/ipykernel/kernelbase.py\", line 539, in execute_request\n      self.do_execute(\n    File \"/usr/local/lib/python3.10/dist-packages/tornado/gen.py\", line 234, in wrapper\n      yielded = ctx_run(next, result)\n    File \"/usr/local/lib/python3.10/dist-packages/ipykernel/ipkernel.py\", line 302, in do_execute\n      res = shell.run_cell(code, store_history=store_history, silent=silent)\n    File \"/usr/local/lib/python3.10/dist-packages/ipykernel/zmqshell.py\", line 539, in run_cell\n      return super(ZMQInteractiveShell, self).run_cell(*args, **kwargs)\n    File \"/usr/local/lib/python3.10/dist-packages/IPython/core/interactiveshell.py\", line 2975, in run_cell\n      result = self._run_cell(\n    File \"/usr/local/lib/python3.10/dist-packages/IPython/core/interactiveshell.py\", line 3030, in _run_cell\n      return runner(coro)\n    File \"/usr/local/lib/python3.10/dist-packages/IPython/core/async_helpers.py\", line 78, in _pseudo_sync_runner\n      coro.send(None)\n    File \"/usr/local/lib/python3.10/dist-packages/IPython/core/interactiveshell.py\", line 3257, in run_cell_async\n      has_raised = await self.run_ast_nodes(code_ast.body, cell_name,\n    File \"/usr/local/lib/python3.10/dist-packages/IPython/core/interactiveshell.py\", line 3473, in run_ast_nodes\n      if (await self.run_code(code, result,  async_=asy)):\n    File \"/usr/local/lib/python3.10/dist-packages/IPython/core/interactiveshell.py\", line 3553, in run_code\n      exec(code_obj, self.user_global_ns, self.user_ns)\n    File \"<ipython-input-19-d997eb1b2baa>\", line 50, in <cell line: 50>\n      model.fit(train_generator, epochs=epochs, validation_data=validation_generator)\n    File \"/usr/local/lib/python3.10/dist-packages/keras/src/utils/traceback_utils.py\", line 65, in error_handler\n      return fn(*args, **kwargs)\n    File \"/usr/local/lib/python3.10/dist-packages/keras/src/engine/training.py\", line 1742, in fit\n      tmp_logs = self.train_function(iterator)\n    File \"/usr/local/lib/python3.10/dist-packages/keras/src/engine/training.py\", line 1338, in train_function\n      return step_function(self, iterator)\n    File \"/usr/local/lib/python3.10/dist-packages/keras/src/engine/training.py\", line 1322, in step_function\n      outputs = model.distribute_strategy.run(run_step, args=(data,))\n    File \"/usr/local/lib/python3.10/dist-packages/keras/src/engine/training.py\", line 1303, in run_step\n      outputs = model.train_step(data)\n    File \"/usr/local/lib/python3.10/dist-packages/keras/src/engine/training.py\", line 1084, in train_step\n      self.optimizer.minimize(loss, self.trainable_variables, tape=tape)\n    File \"/usr/local/lib/python3.10/dist-packages/keras/src/optimizers/optimizer.py\", line 543, in minimize\n      grads_and_vars = self.compute_gradients(loss, var_list, tape)\n    File \"/usr/local/lib/python3.10/dist-packages/keras/src/optimizers/optimizer.py\", line 276, in compute_gradients\n      grads = tape.gradient(loss, var_list)\nNode: 'gradient_tape/model_3/block4_pool/MaxPool/MaxPoolGrad'\nOOM when allocating tensor with shape[32,512,36,135] and type float on /job:localhost/replica:0/task:0/device:GPU:0 by allocator GPU_0_bfc\n\t [[{{node gradient_tape/model_3/block4_pool/MaxPool/MaxPoolGrad}}]]\nHint: If you want to see a list of allocated tensors when OOM happens, add report_tensor_allocations_upon_oom to RunOptions for current allocation info. This isn't available when running in Eager mode.\n [Op:__inference_train_function_14105]"
          ]
        }
      ]
    }
  ]
}